{
  "nbformat": 4,
  "nbformat_minor": 0,
  "metadata": {
    "colab": {
      "provenance": [],
      "collapsed_sections": [
        "iq9gmjNZOR_H"
      ]
    },
    "kernelspec": {
      "name": "python3",
      "display_name": "Python 3"
    },
    "language_info": {
      "name": "python"
    }
  },
  "cells": [
    {
      "cell_type": "markdown",
      "source": [
        "## Download files from shared links from my drive and import all libraries"
      ],
      "metadata": {
        "id": "t_vpscdwOTgj"
      }
    },
    {
      "cell_type": "code",
      "execution_count": null,
      "metadata": {
        "colab": {
          "base_uri": "https://localhost:8080/"
        },
        "id": "P8ltfNXrOI6V",
        "outputId": "7101fcef-db63-4b31-a5fe-958833da945b"
      },
      "outputs": [
        {
          "output_type": "stream",
          "name": "stdout",
          "text": [
            "Downloading...\n",
            "From: https://drive.google.com/uc?id=1ANWJFt67CB2Kyr57NeeW8Kpc0A0xvc2i\n",
            "To: /content/USvideos.csv\n",
            "100% 2.98M/2.98M [00:00<00:00, 25.7MB/s]\n",
            "Downloading...\n",
            "From: https://drive.google.com/uc?id=1gDYYDqbBIv4qLx_YTzM29f6XXp0RekpL\n",
            "To: /content/US_category_id.json\n",
            "100% 8.50k/8.50k [00:00<00:00, 19.6MB/s]\n"
          ]
        }
      ],
      "source": [
        "# download files on new runtime\n",
        "\n",
        "!gdown  '1ANWJFt67CB2Kyr57NeeW8Kpc0A0xvc2i' --output USvideos.csv\n",
        "!gdown  '1gDYYDqbBIv4qLx_YTzM29f6XXp0RekpL' --output US_category_id.json"
      ]
    },
    {
      "cell_type": "markdown",
      "source": [
        "Import all libraries"
      ],
      "metadata": {
        "id": "BwLNie7sOuL2"
      }
    },
    {
      "cell_type": "code",
      "source": [
        "import itertools\n",
        "\n",
        "import pandas as pd\n",
        "import numpy as np\n",
        "import matplotlib.pyplot as plt\n",
        "\n",
        "from mlxtend.preprocessing import TransactionEncoder\n",
        "from mlxtend.frequent_patterns import apriori\n",
        "from mlxtend.frequent_patterns import association_rules\n",
        "import json\n",
        "import seaborn as sns"
      ],
      "metadata": {
        "id": "71UCfORVOjXk"
      },
      "execution_count": null,
      "outputs": []
    },
    {
      "cell_type": "markdown",
      "source": [
        "# Apriori algorithm for categories - Jack"
      ],
      "metadata": {
        "id": "iq9gmjNZOR_H"
      }
    },
    {
      "cell_type": "markdown",
      "source": [
        "## Load data to pandas dataframe"
      ],
      "metadata": {
        "id": "XnRtvm5BO2WT"
      }
    },
    {
      "cell_type": "code",
      "source": [
        "# on_bad_lines='skip'\n",
        "df_us_videos = pd.read_csv(\"USvideos.csv\")\n",
        "print(\"US videos shape: \", df_us_videos.shape)"
      ],
      "metadata": {
        "colab": {
          "base_uri": "https://localhost:8080/"
        },
        "id": "otQ2mYVOOo0b",
        "outputId": "43c08072-0cc2-46fe-d96e-74423d5f49d5"
      },
      "execution_count": null,
      "outputs": [
        {
          "output_type": "stream",
          "name": "stdout",
          "text": [
            "US videos shape:  (8000, 11)\n"
          ]
        },
        {
          "output_type": "stream",
          "name": "stderr",
          "text": [
            "/usr/local/lib/python3.10/dist-packages/ipykernel/ipkernel.py:283: DeprecationWarning: `should_run_async` will not call `transform_cell` automatically in the future. Please pass the result to `transformed_cell` argument and any exception that happen during thetransform in `preprocessing_exc_tuple` in IPython 7.17 and above.\n",
            "  and should_run_async(code)\n"
          ]
        }
      ]
    },
    {
      "cell_type": "markdown",
      "source": [
        "## Add a new column with the actual category name corresponding to the category_id"
      ],
      "metadata": {
        "id": "ommoGsDaPqoQ"
      }
    },
    {
      "cell_type": "code",
      "source": [
        "import json\n",
        "\n",
        "# Opening JSON file\n",
        "f = open('US_category_id.json')\n",
        "\n",
        "# returns JSON object as\n",
        "# a dictionary\n",
        "us_category_id = json.load(f)\n",
        "\n",
        "# Closing file\n",
        "f.close()\n",
        "\n",
        "# category actual name\n",
        "list_cat_name = []\n",
        "\n",
        "for i, row in df_us_videos.iterrows():\n",
        "  id = str(row[\"category_id\"])\n",
        "  for item in us_category_id[\"items\"]:\n",
        "    # print(item)\n",
        "    if id == item[\"id\"]:\n",
        "      list_cat_name.append(item[\"snippet\"][\"title\"])\n",
        "      break\n",
        "\n",
        "df_us_videos.insert(len(df_us_videos.columns),\"category_name\", list_cat_name)\n",
        "print(df_us_videos.head(20)[[\"category_id\", \"category_name\"]])"
      ],
      "metadata": {
        "colab": {
          "base_uri": "https://localhost:8080/"
        },
        "id": "1d89IBjlPI14",
        "outputId": "91ad424f-4098-4f04-fa11-22287053cb54"
      },
      "execution_count": null,
      "outputs": [
        {
          "output_type": "stream",
          "name": "stderr",
          "text": [
            "/usr/local/lib/python3.10/dist-packages/ipykernel/ipkernel.py:283: DeprecationWarning: `should_run_async` will not call `transform_cell` automatically in the future. Please pass the result to `transformed_cell` argument and any exception that happen during thetransform in `preprocessing_exc_tuple` in IPython 7.17 and above.\n",
            "  and should_run_async(code)\n"
          ]
        },
        {
          "output_type": "stream",
          "name": "stdout",
          "text": [
            "    category_id         category_name\n",
            "0            24         Entertainment\n",
            "1            28  Science & Technology\n",
            "2            22        People & Blogs\n",
            "3            28  Science & Technology\n",
            "4            23                Comedy\n",
            "5             1      Film & Animation\n",
            "6            23                Comedy\n",
            "7            28  Science & Technology\n",
            "8            22        People & Blogs\n",
            "9             1      Film & Animation\n",
            "10           23                Comedy\n",
            "11           23                Comedy\n",
            "12           23                Comedy\n",
            "13           24         Entertainment\n",
            "14           24         Entertainment\n",
            "15           28  Science & Technology\n",
            "16           24         Entertainment\n",
            "17            1      Film & Animation\n",
            "18           26         Howto & Style\n",
            "19            1      Film & Animation\n"
          ]
        }
      ]
    },
    {
      "cell_type": "markdown",
      "source": [
        "## Find bins of three tier views; can use different methods."
      ],
      "metadata": {
        "id": "qAudzpbYQAnG"
      }
    },
    {
      "cell_type": "code",
      "source": [
        "# 41,500,672\n",
        "maxView = df_us_videos['views'].max()\n",
        "\n",
        "# 0\n",
        "minView = df_us_videos['views'].min()\n",
        "\n",
        "def equal_depth_partitioning(data, num_bins):\n",
        "    # Sort the data\n",
        "    sorted_data = np.sort(data)\n",
        "\n",
        "    # Calculate the number of elements per bin\n",
        "    elements_per_bin = len(data) // num_bins\n",
        "\n",
        "    # Initialize list to store bin edges\n",
        "    bin_edges = []\n",
        "\n",
        "    # Iterate through the bins\n",
        "    for i in range(1, num_bins):\n",
        "        # Calculate the index for the bin edge\n",
        "        edge_index = i * elements_per_bin\n",
        "\n",
        "        # Append the edge value to the list\n",
        "        bin_edges.append(sorted_data[edge_index])\n",
        "\n",
        "    # Add the last element of the sorted data as the last edge\n",
        "    bin_edges.append(sorted_data[-1])\n",
        "\n",
        "    return bin_edges\n",
        "\n",
        "view_edges = equal_depth_partitioning(df_us_videos['views'].tolist(), 3)\n",
        "\n",
        "lowView = view_edges[0]\n",
        "mediumView = view_edges[1]\n",
        "HighView = view_edges[2]\n",
        "print(f\"Low view is less or euqal {lowView}\\nMedium view is less or euqal {mediumView}\\nHigh view is anything above Medium view\")"
      ],
      "metadata": {
        "colab": {
          "base_uri": "https://localhost:8080/"
        },
        "id": "fmIRRKC9PLfg",
        "outputId": "791234c5-696f-4deb-a8f2-80e3532893c4"
      },
      "execution_count": null,
      "outputs": [
        {
          "output_type": "stream",
          "name": "stdout",
          "text": [
            "Low view is less or euqal 150965\n",
            "Medium view is less or euqal 657842\n",
            "High view is anything above Medium view\n"
          ]
        }
      ]
    },
    {
      "cell_type": "code",
      "source": [
        "df_copy = df_us_videos\n",
        "# df_copy = df_us_videos.copy()\n",
        "\n",
        "list_view_tier = []\n",
        "\n",
        "for i, row in df_copy.iterrows():\n",
        "  v = row[\"views\"]\n",
        "  if v <= lowView:\n",
        "    list_view_tier.append(\"Low View\")\n",
        "  elif v <= mediumView:\n",
        "    list_view_tier.append(\"Medium View\")\n",
        "  else:\n",
        "    list_view_tier.append(\"High View\")\n",
        "\n",
        "df_copy.insert(len(df_copy.columns),\"view_tier\", list_view_tier)\n",
        "print(df_copy.head(20)[[\"category_id\", \"category_name\", \"view_tier\"]])"
      ],
      "metadata": {
        "colab": {
          "base_uri": "https://localhost:8080/"
        },
        "id": "6v1FzpzAQbQN",
        "outputId": "a74c24e5-a773-4d56-e827-ba111b0f672a"
      },
      "execution_count": null,
      "outputs": [
        {
          "output_type": "stream",
          "name": "stdout",
          "text": [
            "    category_id         category_name    view_tier\n",
            "0            24         Entertainment    High View\n",
            "1            28  Science & Technology    High View\n",
            "2            22        People & Blogs    High View\n",
            "3            28  Science & Technology    High View\n",
            "4            23                Comedy    High View\n",
            "5             1      Film & Animation    High View\n",
            "6            23                Comedy    High View\n",
            "7            28  Science & Technology    High View\n",
            "8            22        People & Blogs    High View\n",
            "9             1      Film & Animation    High View\n",
            "10           23                Comedy    High View\n",
            "11           23                Comedy  Medium View\n",
            "12           23                Comedy  Medium View\n",
            "13           24         Entertainment  Medium View\n",
            "14           24         Entertainment  Medium View\n",
            "15           28  Science & Technology  Medium View\n",
            "16           24         Entertainment  Medium View\n",
            "17            1      Film & Animation    High View\n",
            "18           26         Howto & Style  Medium View\n",
            "19            1      Film & Animation    High View\n"
          ]
        }
      ]
    },
    {
      "cell_type": "markdown",
      "source": [
        "## The Apriori algorithm"
      ],
      "metadata": {
        "id": "PIMQmvCnu0-J"
      }
    },
    {
      "cell_type": "code",
      "source": [
        "\"\"\"\n",
        "Apriori algorithm helps find frequent itemsets in a database based on associations between the presence or absence of items.\n",
        "\n",
        "For e.g. the algorithm would discover that when a customer buys bread, they often end up buying butter & eggs as well.\n",
        "This indicates a strong association between these items. These associations help businesses to make decisions to improve sales, customer satisfaction, etc.\n",
        "\n",
        "To improve the efficiency of level-wise generation of frequent itemsets, an important property is used called Apriori property which helps by reducing the search space.\n",
        "Apriori assumes that,\n",
        "    All subsets of a frequent itemset must be frequent(Apriori property).\n",
        "    If an itemset is infrequent, all its supersets will be infrequent.\n",
        "\n",
        "https://www.engati.com/glossary/apriori-algorithm\n",
        "\"\"\"\n",
        "\n",
        "def myApriori(trans_data : list, min_sup: int, K_max: int):\n",
        "    \"\"\"\n",
        "    min_sup: all frequent itemsets with support count ≥ min_sup\n",
        "    K_max:   max size of a basket\n",
        "\n",
        "    example input with min_sup = 2, K_max = 3:\n",
        "      [['I1', 'I2', 'I5'], ['I2', 'I4'], ['I2', 'I4'], ['I1', 'I2', 'I4'], ['I1', 'I3'], ['I2', 'I3'], ['I1', 'I3'], ['I1', 'I2', 'I3', 'I5'], ['I1', 'I2', 'I3']]\n",
        "\n",
        "    then, example output:\n",
        "      [['I1', 'I2', 'I5', 'I4', 'I3'], [['I1', 'I2'],['I1', 'I5'],['I2', 'I5'],['I4', 'I2'],['I1', 'I3'],['I2', 'I3']], [['I1', 'I2', 'I5'], ['I1', 'I2', 'I3']]]\n",
        "    \"\"\"\n",
        "\n",
        "    frequent_items = []\n",
        "    frequentItemSupport = {}\n",
        "\n",
        "    for transaction in trans_data:\n",
        "      for itemSet in transaction:\n",
        "        frequentItemSupport[itemSet]=frequentItemSupport.get(itemSet,0)+1\n",
        "\n",
        "    frequent_items.append([item for item, count in frequentItemSupport.items()if count >= min_sup])\n",
        "\n",
        "    for k in range(2, K_max+1):\n",
        "      candidateSupport = {}\n",
        "      for transaction in trans_data:\n",
        "        item_combinations = itertools.combinations(set(transaction),k)\n",
        "        for c in item_combinations:\n",
        "          candidate = tuple(sorted(c))\n",
        "          candidateSupport[candidate] = candidateSupport.get(candidate,0)+1\n",
        "\n",
        "      frequent_itemsets = [list(set(candidate)) for candidate, count in candidateSupport.items() if count >= min_sup]\n",
        "      if not frequent_itemsets:\n",
        "          break\n",
        "\n",
        "      frequent_items.append(frequent_itemsets)\n",
        "\n",
        "    return frequent_items"
      ],
      "metadata": {
        "id": "BKWOiJ3xW9vi"
      },
      "execution_count": null,
      "outputs": []
    },
    {
      "cell_type": "code",
      "source": [
        "# Testing\n",
        "\n",
        "myApriori(\n",
        "    [['I1', 'I2', 'I5'], ['I2', 'I4'], ['I2', 'I4'], ['I1', 'I2', 'I4'], ['I1', 'I3'], ['I2', 'I3'], ['I1', 'I3'], ['I1', 'I2', 'I3', 'I5'], ['I1', 'I2', 'I3']],\n",
        "    2,\n",
        "    3\n",
        ")"
      ],
      "metadata": {
        "id": "UNMlTsqBckLQ",
        "colab": {
          "base_uri": "https://localhost:8080/"
        },
        "outputId": "e3814e5a-8799-4327-9e76-ff7db571f843"
      },
      "execution_count": null,
      "outputs": [
        {
          "output_type": "execute_result",
          "data": {
            "text/plain": [
              "[['I1', 'I2', 'I5', 'I4', 'I3'],\n",
              " [['I2', 'I1'],\n",
              "  ['I2', 'I5'],\n",
              "  ['I5', 'I1'],\n",
              "  ['I2', 'I4'],\n",
              "  ['I1', 'I3'],\n",
              "  ['I2', 'I3']],\n",
              " [['I2', 'I1', 'I5'], ['I2', 'I1', 'I3']]]"
            ]
          },
          "metadata": {},
          "execution_count": 19
        }
      ]
    },
    {
      "cell_type": "code",
      "source": [
        "def gen_confidenceItems_TOP(trans_data : list, min_sup: int):\n",
        "    \"\"\"\n",
        "\n",
        "    \"\"\"\n",
        "    confidencePair = []\n",
        "\n",
        "    frequent_items = myApriori(trans_data,min_sup,2)\n",
        "\n",
        "    # decomposite any sublist by one level\n",
        "    frequent_items_break =[item for sublist in frequent_items for item in sublist]\n",
        "\n",
        "    frequentItemsPair = []\n",
        "    for itemSet in frequent_items_break:\n",
        "      if type(itemSet) is list and len(itemSet) > 1:\n",
        "        for i in range(len(itemSet)):\n",
        "          n =[item for item in itemSet if item != itemSet[i]]\n",
        "          d =[itemSet[i]]\n",
        "          rule=sorted(n)+sorted(d)\n",
        "          if rule not in frequentItemsPair:\n",
        "            frequentItemsPair.append(rule)\n",
        "\n",
        "    confidencePairs = []\n",
        "    for pair in frequentItemsPair:\n",
        "      X = pair[:-1]\n",
        "\n",
        "      X_Y_support = sum(1 for transaction in trans_data if set(pair).issubset(set(transaction)))\n",
        "      X_support= sum(1 for transaction in trans_data if set(X).issubset(set(transaction)))\n",
        "      confidence = X_Y_support / X_support if X_support != 0 else 0\n",
        "      confidencePairs.append((pair, confidence, X_Y_support, X_support))\n",
        "\n",
        "    confidencePairs.sort(key=lambda x: x[1], reverse=True)\n",
        "    top = confidencePairs[:5]\n",
        "    confidencePair =[pair for pair in top]\n",
        "\n",
        "    return confidencePair\n",
        "\n"
      ],
      "metadata": {
        "id": "YelL-Oqp0z1K"
      },
      "execution_count": null,
      "outputs": []
    },
    {
      "cell_type": "markdown",
      "source": [
        "## Create Transaction, Run the Apriori algorithm"
      ],
      "metadata": {
        "id": "MbKChllIu_HB"
      }
    },
    {
      "cell_type": "code",
      "source": [
        "# the transaction data\n",
        "list_trans = []\n",
        "\n",
        "for i, row in df_us_videos.iterrows():\n",
        "  list_trans.append([row[\"view_tier\"], row[\"category_name\"]])\n",
        "\n",
        "print(len(list_trans))\n",
        "\n",
        "min_sup = 100\n",
        "K_max = 2"
      ],
      "metadata": {
        "colab": {
          "base_uri": "https://localhost:8080/"
        },
        "id": "r1m2Gpufu7kh",
        "outputId": "23a7c9a0-4497-4114-d5e1-7b874ef6f88e"
      },
      "execution_count": null,
      "outputs": [
        {
          "output_type": "stream",
          "name": "stdout",
          "text": [
            "8000\n"
          ]
        }
      ]
    },
    {
      "cell_type": "code",
      "source": [
        "myApriori(list_trans, 100, 2)"
      ],
      "metadata": {
        "colab": {
          "base_uri": "https://localhost:8080/"
        },
        "id": "WaCYD47Tx17C",
        "outputId": "88dfbfbf-db78-431c-abdf-470ea76973f9"
      },
      "execution_count": null,
      "outputs": [
        {
          "output_type": "execute_result",
          "data": {
            "text/plain": [
              "[['High View',\n",
              "  'Entertainment',\n",
              "  'Science & Technology',\n",
              "  'People & Blogs',\n",
              "  'Comedy',\n",
              "  'Film & Animation',\n",
              "  'Medium View',\n",
              "  'Howto & Style',\n",
              "  'Music',\n",
              "  'News & Politics',\n",
              "  'Low View',\n",
              "  'Sports',\n",
              "  'Education',\n",
              "  'Autos & Vehicles',\n",
              "  'Pets & Animals'],\n",
              " [['High View', 'Entertainment'],\n",
              "  ['High View', 'Science & Technology'],\n",
              "  ['People & Blogs', 'High View'],\n",
              "  ['Comedy', 'High View'],\n",
              "  ['High View', 'Film & Animation'],\n",
              "  ['Comedy', 'Medium View'],\n",
              "  ['Medium View', 'Entertainment'],\n",
              "  ['Medium View', 'Science & Technology'],\n",
              "  ['Medium View', 'Howto & Style'],\n",
              "  ['High View', 'Music'],\n",
              "  ['News & Politics', 'Medium View'],\n",
              "  ['Low View', 'Music'],\n",
              "  ['Medium View', 'Education'],\n",
              "  ['Entertainment', 'Low View'],\n",
              "  ['Medium View', 'Music'],\n",
              "  ['Low View', 'Howto & Style'],\n",
              "  ['High View', 'Howto & Style'],\n",
              "  ['Sports', 'Medium View'],\n",
              "  ['Science & Technology', 'Low View'],\n",
              "  ['People & Blogs', 'Low View'],\n",
              "  ['News & Politics', 'Low View'],\n",
              "  ['Comedy', 'Low View'],\n",
              "  ['Film & Animation', 'Low View'],\n",
              "  ['News & Politics', 'High View'],\n",
              "  ['People & Blogs', 'Medium View'],\n",
              "  ['Sports', 'Low View'],\n",
              "  ['Low View', 'Education']]]"
            ]
          },
          "metadata": {},
          "execution_count": 13
        }
      ]
    },
    {
      "cell_type": "code",
      "source": [
        "gen_confidenceItems_TOP(list_trans, min_sup)"
      ],
      "metadata": {
        "colab": {
          "base_uri": "https://localhost:8080/"
        },
        "id": "6sraXRmwQ5uV",
        "outputId": "52b038ad-2e2f-412c-8fdb-4ae73d38b1a7"
      },
      "execution_count": null,
      "outputs": [
        {
          "output_type": "execute_result",
          "data": {
            "text/plain": [
              "[(['Comedy', 'High View'], 0.582010582010582, 440, 756),\n",
              " (['Sports', 'Low View'], 0.4951219512195122, 203, 410),\n",
              " (['Education', 'Medium View'], 0.46407185628742514, 155, 334),\n",
              " (['News & Politics', 'Low View'], 0.4504792332268371, 282, 626),\n",
              " (['Film & Animation', 'High View'], 0.42063492063492064, 159, 378)]"
            ]
          },
          "metadata": {},
          "execution_count": 10
        }
      ]
    },
    {
      "cell_type": "markdown",
      "source": [
        "#Apriori alg on all video tags - Silvestre"
      ],
      "metadata": {
        "id": "jSL8TrJh9osE"
      }
    },
    {
      "cell_type": "markdown",
      "source": [
        "## Adding a season attri"
      ],
      "metadata": {
        "id": "q-wtQROC-mvK"
      }
    },
    {
      "cell_type": "code",
      "source": [
        "#df = pd.read_csv(\"USvideos.csv\")\n",
        "#df_us_videos\n",
        "# Function to determine the season from month and day\n",
        "def get_season(date):\n",
        "    date_str = str(date)\n",
        "    day, month = int(date_str.split('.')[0]), int(date_str.split('.')[1])\n",
        "    if (month > 2) and (month < 6):\n",
        "        return 'Spring'\n",
        "    elif (month > 5) and (month < 9):\n",
        "        return 'Summer'\n",
        "    elif (month > 8) and (month < 12):\n",
        "        return 'Fall'\n",
        "    else:\n",
        "        return 'Winter'\n",
        "\n",
        "# Apply the function to the 'date' column to create a new 'season' column\n",
        "df_us_videos['season'] = df_us_videos['date'].apply(get_season)\n",
        "\n",
        "# Optionally, save the modified DataFrame to a new CSV file\n",
        "#df.to_csv('/mnt/data/USvideos_modified.csv', index=False)\n",
        "\n",
        "# Output the DataFrame to see the changes\n",
        "print(df_us_videos.head())"
      ],
      "metadata": {
        "id": "5lBnUn0U9yj-"
      },
      "execution_count": null,
      "outputs": []
    },
    {
      "cell_type": "markdown",
      "source": [
        "##Using Apriori alg to identify combinations of tags that frequently occur together in trending videos\n",
        "By treating each video as a \"transaction\" and its tags as \"items\""
      ],
      "metadata": {
        "id": "jvz6jJo2_Jh9"
      }
    },
    {
      "cell_type": "markdown",
      "source": [
        "### **Step 1:** Creating list a list of tags for each video"
      ],
      "metadata": {
        "id": "uTdLgEyM_VS0"
      }
    },
    {
      "cell_type": "code",
      "source": [
        "\n",
        "if 'df_us_videos' in locals():\n",
        "    # Creating a dictionary with 'video_id' as keys and lists of 'tags' as values\n",
        "    video_tags_dict = {row['video_id']: row['tags'].split('|') for index, row in df_us_videos.iterrows() if isinstance(row['tags'], str)}\n",
        "\n",
        "    # Optionally, display a small part of the dictionary to check\n",
        "    sample_items = list(video_tags_dict.items())[:5]\n",
        "    for video_id, tags in sample_items:\n",
        "        print(f\"Video ID: {video_id}\\nTags: {tags}\\n\")\n",
        "else:\n",
        "    print(\"Dataframe is not defined due to an error in reading the file.\")"
      ],
      "metadata": {
        "id": "JGVWF8c9_s3d"
      },
      "execution_count": null,
      "outputs": []
    },
    {
      "cell_type": "markdown",
      "source": [
        "### **Step 2:** Applying alg to get patterns"
      ],
      "metadata": {
        "id": "lkp07ocAAOU-"
      }
    },
    {
      "cell_type": "code",
      "source": [
        "from IPython.display import display, HTML\n",
        "\n",
        "# Assume video_tags_dict is already defined\n",
        "video_tags = list(video_tags_dict.values())\n",
        "encoder = TransactionEncoder()\n",
        "transformed_data = encoder.fit_transform(video_tags)\n",
        "df2 = pd.DataFrame(transformed_data, columns=encoder.columns_)\n",
        "\n",
        "# Step 2: Apply the Apriori algorithm to find frequent itemsets\n",
        "frequent_itemsets = apriori(df2, min_support=0.019, use_colnames=True)\n",
        "#frequent_itemsets = apriori2(df1, 100, 3);\n",
        "# Sort the frequent itemsets by support\n",
        "frequent_itemsets_sorted = frequent_itemsets.sort_values(by='support', ascending=False)\n",
        "\n",
        "# Display the sorted frequent itemsets as a table without row indices\n",
        "display(HTML(frequent_itemsets_sorted.to_html(index=False)))  # Displays the DataFrame as a table without index\n"
      ],
      "metadata": {
        "id": "cipKWeB6BWgX"
      },
      "execution_count": null,
      "outputs": []
    },
    {
      "cell_type": "markdown",
      "source": [
        "###**Step 3:** Analysis based on their support, confidence, and lift."
      ],
      "metadata": {
        "id": "9I64kKrbBjH0"
      }
    },
    {
      "cell_type": "code",
      "source": [
        "from mlxtend.frequent_patterns import association_rules\n",
        "\n",
        "# Assuming 'frequent_itemsets' is already defined as in your previous message\n",
        "# Now, let's generate the association rules\n",
        "rules = association_rules(frequent_itemsets, metric=\"confidence\", min_threshold=.5)\n",
        "\n",
        "# Calculate lift\n",
        "rules[\"lift\"] = rules[\"confidence\"] / (rules[\"consequent support\"] / rules[\"antecedent support\"])\n",
        "\n",
        "# Sort the rules by the lift and then by confidence in descending order\n",
        "rules = rules.sort_values(['lift', 'confidence'], ascending=[False, False])\n",
        "\n",
        "\n",
        "# Sort and display rules\n",
        "rules_sorted = rules.sort_values(['lift', 'confidence'], ascending=[False, False])\n",
        "display(HTML(rules_sorted.to_html(index=False)))\n",
        "#print(rules)"
      ],
      "metadata": {
        "colab": {
          "base_uri": "https://localhost:8080/",
          "height": 1000
        },
        "id": "ETZeVlExBjW4",
        "outputId": "a21427da-53b5-4b18-98f3-1beaf7ad7f2d"
      },
      "execution_count": null,
      "outputs": [
        {
          "output_type": "stream",
          "name": "stderr",
          "text": [
            "/usr/local/lib/python3.10/dist-packages/ipykernel/ipkernel.py:283: DeprecationWarning: `should_run_async` will not call `transform_cell` automatically in the future. Please pass the result to `transformed_cell` argument and any exception that happen during thetransform in `preprocessing_exc_tuple` in IPython 7.17 and above.\n",
            "  and should_run_async(code)\n"
          ]
        },
        {
          "output_type": "display_data",
          "data": {
            "text/plain": [
              "<IPython.core.display.HTML object>"
            ],
            "text/html": [
              "<table border=\"1\" class=\"dataframe\">\n",
              "  <thead>\n",
              "    <tr style=\"text-align: right;\">\n",
              "      <th>antecedents</th>\n",
              "      <th>consequents</th>\n",
              "      <th>antecedent support</th>\n",
              "      <th>consequent support</th>\n",
              "      <th>support</th>\n",
              "      <th>confidence</th>\n",
              "      <th>lift</th>\n",
              "      <th>leverage</th>\n",
              "      <th>conviction</th>\n",
              "      <th>zhangs_metric</th>\n",
              "    </tr>\n",
              "  </thead>\n",
              "  <tbody>\n",
              "    <tr>\n",
              "      <td>(celebrities, funny video)</td>\n",
              "      <td>(humor, jokes)</td>\n",
              "      <td>0.019882</td>\n",
              "      <td>0.019459</td>\n",
              "      <td>0.019459</td>\n",
              "      <td>0.978723</td>\n",
              "      <td>1.000000</td>\n",
              "      <td>0.019072</td>\n",
              "      <td>46.085448</td>\n",
              "      <td>1.000000</td>\n",
              "    </tr>\n",
              "    <tr>\n",
              "      <td>(celebrities, humor)</td>\n",
              "      <td>(jokes, funny video)</td>\n",
              "      <td>0.020305</td>\n",
              "      <td>0.019459</td>\n",
              "      <td>0.019459</td>\n",
              "      <td>0.958333</td>\n",
              "      <td>1.000000</td>\n",
              "      <td>0.019063</td>\n",
              "      <td>23.532995</td>\n",
              "      <td>1.000000</td>\n",
              "    </tr>\n",
              "    <tr>\n",
              "      <td>(humor, funny video)</td>\n",
              "      <td>(celebrities, jokes)</td>\n",
              "      <td>0.020305</td>\n",
              "      <td>0.019459</td>\n",
              "      <td>0.019459</td>\n",
              "      <td>0.958333</td>\n",
              "      <td>1.000000</td>\n",
              "      <td>0.019063</td>\n",
              "      <td>23.532995</td>\n",
              "      <td>1.000000</td>\n",
              "    </tr>\n",
              "    <tr>\n",
              "      <td>(funny video)</td>\n",
              "      <td>(celebrities, jokes)</td>\n",
              "      <td>0.022843</td>\n",
              "      <td>0.019459</td>\n",
              "      <td>0.019459</td>\n",
              "      <td>0.851852</td>\n",
              "      <td>1.000000</td>\n",
              "      <td>0.019014</td>\n",
              "      <td>6.618655</td>\n",
              "      <td>1.000000</td>\n",
              "    </tr>\n",
              "    <tr>\n",
              "      <td>(funny video)</td>\n",
              "      <td>(humor, jokes)</td>\n",
              "      <td>0.022843</td>\n",
              "      <td>0.019459</td>\n",
              "      <td>0.019459</td>\n",
              "      <td>0.851852</td>\n",
              "      <td>1.000000</td>\n",
              "      <td>0.019014</td>\n",
              "      <td>6.618655</td>\n",
              "      <td>1.000000</td>\n",
              "    </tr>\n",
              "    <tr>\n",
              "      <td>(funny video)</td>\n",
              "      <td>(celebrities, humor, jokes)</td>\n",
              "      <td>0.022843</td>\n",
              "      <td>0.019459</td>\n",
              "      <td>0.019459</td>\n",
              "      <td>0.851852</td>\n",
              "      <td>1.000000</td>\n",
              "      <td>0.019014</td>\n",
              "      <td>6.618655</td>\n",
              "      <td>1.000000</td>\n",
              "    </tr>\n",
              "    <tr>\n",
              "      <td>(celebrities)</td>\n",
              "      <td>(jokes, funny video)</td>\n",
              "      <td>0.024958</td>\n",
              "      <td>0.019459</td>\n",
              "      <td>0.019459</td>\n",
              "      <td>0.779661</td>\n",
              "      <td>1.000000</td>\n",
              "      <td>0.018973</td>\n",
              "      <td>4.450150</td>\n",
              "      <td>1.000000</td>\n",
              "    </tr>\n",
              "    <tr>\n",
              "      <td>(celebrities)</td>\n",
              "      <td>(humor, jokes)</td>\n",
              "      <td>0.024958</td>\n",
              "      <td>0.019459</td>\n",
              "      <td>0.019459</td>\n",
              "      <td>0.779661</td>\n",
              "      <td>1.000000</td>\n",
              "      <td>0.018973</td>\n",
              "      <td>4.450150</td>\n",
              "      <td>1.000000</td>\n",
              "    </tr>\n",
              "    <tr>\n",
              "      <td>(celebrities)</td>\n",
              "      <td>(humor, jokes, funny video)</td>\n",
              "      <td>0.024958</td>\n",
              "      <td>0.019459</td>\n",
              "      <td>0.019459</td>\n",
              "      <td>0.779661</td>\n",
              "      <td>1.000000</td>\n",
              "      <td>0.018973</td>\n",
              "      <td>4.450150</td>\n",
              "      <td>1.000000</td>\n",
              "    </tr>\n",
              "    <tr>\n",
              "      <td>(humor)</td>\n",
              "      <td>(celebrities, funny video)</td>\n",
              "      <td>0.038917</td>\n",
              "      <td>0.019882</td>\n",
              "      <td>0.019882</td>\n",
              "      <td>0.510870</td>\n",
              "      <td>1.000000</td>\n",
              "      <td>0.019108</td>\n",
              "      <td>2.003798</td>\n",
              "      <td>1.000000</td>\n",
              "    </tr>\n",
              "    <tr>\n",
              "      <td>(humor)</td>\n",
              "      <td>(celebrities, jokes)</td>\n",
              "      <td>0.038917</td>\n",
              "      <td>0.019459</td>\n",
              "      <td>0.019459</td>\n",
              "      <td>0.500000</td>\n",
              "      <td>1.000000</td>\n",
              "      <td>0.018701</td>\n",
              "      <td>1.961083</td>\n",
              "      <td>1.000000</td>\n",
              "    </tr>\n",
              "    <tr>\n",
              "      <td>(humor)</td>\n",
              "      <td>(jokes, funny video)</td>\n",
              "      <td>0.038917</td>\n",
              "      <td>0.019459</td>\n",
              "      <td>0.019459</td>\n",
              "      <td>0.500000</td>\n",
              "      <td>1.000000</td>\n",
              "      <td>0.018701</td>\n",
              "      <td>1.961083</td>\n",
              "      <td>1.000000</td>\n",
              "    </tr>\n",
              "    <tr>\n",
              "      <td>(humor)</td>\n",
              "      <td>(celebrities, jokes, funny video)</td>\n",
              "      <td>0.038917</td>\n",
              "      <td>0.019459</td>\n",
              "      <td>0.019459</td>\n",
              "      <td>0.500000</td>\n",
              "      <td>1.000000</td>\n",
              "      <td>0.018701</td>\n",
              "      <td>1.961083</td>\n",
              "      <td>1.000000</td>\n",
              "    </tr>\n",
              "    <tr>\n",
              "      <td>(funny video)</td>\n",
              "      <td>(celebrities, humor)</td>\n",
              "      <td>0.022843</td>\n",
              "      <td>0.020305</td>\n",
              "      <td>0.019882</td>\n",
              "      <td>0.870370</td>\n",
              "      <td>0.979167</td>\n",
              "      <td>0.019418</td>\n",
              "      <td>7.557650</td>\n",
              "      <td>0.999503</td>\n",
              "    </tr>\n",
              "    <tr>\n",
              "      <td>(celebrities)</td>\n",
              "      <td>(humor, funny video)</td>\n",
              "      <td>0.024958</td>\n",
              "      <td>0.020305</td>\n",
              "      <td>0.019882</td>\n",
              "      <td>0.796610</td>\n",
              "      <td>0.979167</td>\n",
              "      <td>0.019375</td>\n",
              "      <td>4.816836</td>\n",
              "      <td>0.999455</td>\n",
              "    </tr>\n",
              "    <tr>\n",
              "      <td>(humor, jokes)</td>\n",
              "      <td>(celebrities, funny video)</td>\n",
              "      <td>0.019459</td>\n",
              "      <td>0.019882</td>\n",
              "      <td>0.019459</td>\n",
              "      <td>1.000000</td>\n",
              "      <td>0.978723</td>\n",
              "      <td>0.019072</td>\n",
              "      <td>inf</td>\n",
              "      <td>0.999569</td>\n",
              "    </tr>\n",
              "    <tr>\n",
              "      <td>(celebrities, funny video)</td>\n",
              "      <td>(jokes)</td>\n",
              "      <td>0.019882</td>\n",
              "      <td>0.019882</td>\n",
              "      <td>0.019459</td>\n",
              "      <td>0.978723</td>\n",
              "      <td>0.978723</td>\n",
              "      <td>0.019063</td>\n",
              "      <td>46.065567</td>\n",
              "      <td>0.999559</td>\n",
              "    </tr>\n",
              "    <tr>\n",
              "      <td>(jokes)</td>\n",
              "      <td>(celebrities, funny video)</td>\n",
              "      <td>0.019882</td>\n",
              "      <td>0.019882</td>\n",
              "      <td>0.019459</td>\n",
              "      <td>0.978723</td>\n",
              "      <td>0.978723</td>\n",
              "      <td>0.019063</td>\n",
              "      <td>46.065567</td>\n",
              "      <td>0.999559</td>\n",
              "    </tr>\n",
              "    <tr>\n",
              "      <td>(celebrities, humor, funny video)</td>\n",
              "      <td>(jokes)</td>\n",
              "      <td>0.019882</td>\n",
              "      <td>0.019882</td>\n",
              "      <td>0.019459</td>\n",
              "      <td>0.978723</td>\n",
              "      <td>0.978723</td>\n",
              "      <td>0.019063</td>\n",
              "      <td>46.065567</td>\n",
              "      <td>0.999559</td>\n",
              "    </tr>\n",
              "    <tr>\n",
              "      <td>(jokes)</td>\n",
              "      <td>(celebrities, humor, funny video)</td>\n",
              "      <td>0.019882</td>\n",
              "      <td>0.019882</td>\n",
              "      <td>0.019459</td>\n",
              "      <td>0.978723</td>\n",
              "      <td>0.978723</td>\n",
              "      <td>0.019063</td>\n",
              "      <td>46.065567</td>\n",
              "      <td>0.999559</td>\n",
              "    </tr>\n",
              "    <tr>\n",
              "      <td>(celebrities, humor)</td>\n",
              "      <td>(jokes)</td>\n",
              "      <td>0.020305</td>\n",
              "      <td>0.019882</td>\n",
              "      <td>0.019459</td>\n",
              "      <td>0.958333</td>\n",
              "      <td>0.978723</td>\n",
              "      <td>0.019055</td>\n",
              "      <td>23.522843</td>\n",
              "      <td>0.999549</td>\n",
              "    </tr>\n",
              "    <tr>\n",
              "      <td>(humor, funny video)</td>\n",
              "      <td>(jokes)</td>\n",
              "      <td>0.020305</td>\n",
              "      <td>0.019882</td>\n",
              "      <td>0.019459</td>\n",
              "      <td>0.958333</td>\n",
              "      <td>0.978723</td>\n",
              "      <td>0.019055</td>\n",
              "      <td>23.522843</td>\n",
              "      <td>0.999549</td>\n",
              "    </tr>\n",
              "    <tr>\n",
              "      <td>(funny video)</td>\n",
              "      <td>(jokes)</td>\n",
              "      <td>0.022843</td>\n",
              "      <td>0.019882</td>\n",
              "      <td>0.019459</td>\n",
              "      <td>0.851852</td>\n",
              "      <td>0.978723</td>\n",
              "      <td>0.019004</td>\n",
              "      <td>6.615799</td>\n",
              "      <td>0.999492</td>\n",
              "    </tr>\n",
              "    <tr>\n",
              "      <td>(celebrities)</td>\n",
              "      <td>(jokes)</td>\n",
              "      <td>0.024958</td>\n",
              "      <td>0.019882</td>\n",
              "      <td>0.019459</td>\n",
              "      <td>0.779661</td>\n",
              "      <td>0.978723</td>\n",
              "      <td>0.018962</td>\n",
              "      <td>4.448230</td>\n",
              "      <td>0.999444</td>\n",
              "    </tr>\n",
              "    <tr>\n",
              "      <td>(humor)</td>\n",
              "      <td>(jokes)</td>\n",
              "      <td>0.038917</td>\n",
              "      <td>0.019882</td>\n",
              "      <td>0.019459</td>\n",
              "      <td>0.500000</td>\n",
              "      <td>0.978723</td>\n",
              "      <td>0.018685</td>\n",
              "      <td>1.960237</td>\n",
              "      <td>0.999120</td>\n",
              "    </tr>\n",
              "    <tr>\n",
              "      <td>(jokes)</td>\n",
              "      <td>(celebrities, humor)</td>\n",
              "      <td>0.019882</td>\n",
              "      <td>0.020305</td>\n",
              "      <td>0.019459</td>\n",
              "      <td>0.978723</td>\n",
              "      <td>0.958333</td>\n",
              "      <td>0.019055</td>\n",
              "      <td>46.045685</td>\n",
              "      <td>0.999118</td>\n",
              "    </tr>\n",
              "    <tr>\n",
              "      <td>(jokes)</td>\n",
              "      <td>(humor, funny video)</td>\n",
              "      <td>0.019882</td>\n",
              "      <td>0.020305</td>\n",
              "      <td>0.019459</td>\n",
              "      <td>0.978723</td>\n",
              "      <td>0.958333</td>\n",
              "      <td>0.019055</td>\n",
              "      <td>46.045685</td>\n",
              "      <td>0.999118</td>\n",
              "    </tr>\n",
              "    <tr>\n",
              "      <td>(celebrities, jokes)</td>\n",
              "      <td>(humor, funny video)</td>\n",
              "      <td>0.019459</td>\n",
              "      <td>0.020305</td>\n",
              "      <td>0.019459</td>\n",
              "      <td>1.000000</td>\n",
              "      <td>0.958333</td>\n",
              "      <td>0.019063</td>\n",
              "      <td>inf</td>\n",
              "      <td>0.999137</td>\n",
              "    </tr>\n",
              "    <tr>\n",
              "      <td>(jokes, funny video)</td>\n",
              "      <td>(celebrities, humor)</td>\n",
              "      <td>0.019459</td>\n",
              "      <td>0.020305</td>\n",
              "      <td>0.019459</td>\n",
              "      <td>1.000000</td>\n",
              "      <td>0.958333</td>\n",
              "      <td>0.019063</td>\n",
              "      <td>inf</td>\n",
              "      <td>0.999137</td>\n",
              "    </tr>\n",
              "    <tr>\n",
              "      <td>(humor)</td>\n",
              "      <td>(funny video)</td>\n",
              "      <td>0.038917</td>\n",
              "      <td>0.022843</td>\n",
              "      <td>0.020305</td>\n",
              "      <td>0.521739</td>\n",
              "      <td>0.888889</td>\n",
              "      <td>0.019416</td>\n",
              "      <td>2.043147</td>\n",
              "      <td>0.994938</td>\n",
              "    </tr>\n",
              "    <tr>\n",
              "      <td>(celebrities, humor)</td>\n",
              "      <td>(funny video)</td>\n",
              "      <td>0.020305</td>\n",
              "      <td>0.022843</td>\n",
              "      <td>0.019882</td>\n",
              "      <td>0.979167</td>\n",
              "      <td>0.870370</td>\n",
              "      <td>0.019418</td>\n",
              "      <td>46.903553</td>\n",
              "      <td>0.996913</td>\n",
              "    </tr>\n",
              "    <tr>\n",
              "      <td>(celebrities)</td>\n",
              "      <td>(funny video)</td>\n",
              "      <td>0.024958</td>\n",
              "      <td>0.022843</td>\n",
              "      <td>0.019882</td>\n",
              "      <td>0.796610</td>\n",
              "      <td>0.870370</td>\n",
              "      <td>0.019311</td>\n",
              "      <td>4.804357</td>\n",
              "      <td>0.996188</td>\n",
              "    </tr>\n",
              "    <tr>\n",
              "      <td>(celebrities, jokes)</td>\n",
              "      <td>(funny video)</td>\n",
              "      <td>0.019459</td>\n",
              "      <td>0.022843</td>\n",
              "      <td>0.019459</td>\n",
              "      <td>1.000000</td>\n",
              "      <td>0.851852</td>\n",
              "      <td>0.019014</td>\n",
              "      <td>inf</td>\n",
              "      <td>0.996549</td>\n",
              "    </tr>\n",
              "    <tr>\n",
              "      <td>(humor, jokes)</td>\n",
              "      <td>(funny video)</td>\n",
              "      <td>0.019459</td>\n",
              "      <td>0.022843</td>\n",
              "      <td>0.019459</td>\n",
              "      <td>1.000000</td>\n",
              "      <td>0.851852</td>\n",
              "      <td>0.019014</td>\n",
              "      <td>inf</td>\n",
              "      <td>0.996549</td>\n",
              "    </tr>\n",
              "    <tr>\n",
              "      <td>(celebrities, humor, jokes)</td>\n",
              "      <td>(funny video)</td>\n",
              "      <td>0.019459</td>\n",
              "      <td>0.022843</td>\n",
              "      <td>0.019459</td>\n",
              "      <td>1.000000</td>\n",
              "      <td>0.851852</td>\n",
              "      <td>0.019014</td>\n",
              "      <td>inf</td>\n",
              "      <td>0.996549</td>\n",
              "    </tr>\n",
              "    <tr>\n",
              "      <td>(jokes)</td>\n",
              "      <td>(funny video)</td>\n",
              "      <td>0.019882</td>\n",
              "      <td>0.022843</td>\n",
              "      <td>0.019459</td>\n",
              "      <td>0.978723</td>\n",
              "      <td>0.851852</td>\n",
              "      <td>0.019004</td>\n",
              "      <td>45.926396</td>\n",
              "      <td>0.996472</td>\n",
              "    </tr>\n",
              "    <tr>\n",
              "      <td>(humor)</td>\n",
              "      <td>(celebrities)</td>\n",
              "      <td>0.038917</td>\n",
              "      <td>0.024958</td>\n",
              "      <td>0.020305</td>\n",
              "      <td>0.521739</td>\n",
              "      <td>0.813559</td>\n",
              "      <td>0.019333</td>\n",
              "      <td>2.038725</td>\n",
              "      <td>0.990720</td>\n",
              "    </tr>\n",
              "    <tr>\n",
              "      <td>(humor, funny video)</td>\n",
              "      <td>(celebrities)</td>\n",
              "      <td>0.020305</td>\n",
              "      <td>0.024958</td>\n",
              "      <td>0.019882</td>\n",
              "      <td>0.979167</td>\n",
              "      <td>0.796610</td>\n",
              "      <td>0.019375</td>\n",
              "      <td>46.802030</td>\n",
              "      <td>0.994708</td>\n",
              "    </tr>\n",
              "    <tr>\n",
              "      <td>(funny video)</td>\n",
              "      <td>(celebrities)</td>\n",
              "      <td>0.022843</td>\n",
              "      <td>0.024958</td>\n",
              "      <td>0.019882</td>\n",
              "      <td>0.870370</td>\n",
              "      <td>0.796610</td>\n",
              "      <td>0.019311</td>\n",
              "      <td>7.521755</td>\n",
              "      <td>0.994032</td>\n",
              "    </tr>\n",
              "    <tr>\n",
              "      <td>(jokes, funny video)</td>\n",
              "      <td>(celebrities)</td>\n",
              "      <td>0.019459</td>\n",
              "      <td>0.024958</td>\n",
              "      <td>0.019459</td>\n",
              "      <td>1.000000</td>\n",
              "      <td>0.779661</td>\n",
              "      <td>0.018973</td>\n",
              "      <td>inf</td>\n",
              "      <td>0.994392</td>\n",
              "    </tr>\n",
              "    <tr>\n",
              "      <td>(humor, jokes)</td>\n",
              "      <td>(celebrities)</td>\n",
              "      <td>0.019459</td>\n",
              "      <td>0.024958</td>\n",
              "      <td>0.019459</td>\n",
              "      <td>1.000000</td>\n",
              "      <td>0.779661</td>\n",
              "      <td>0.018973</td>\n",
              "      <td>inf</td>\n",
              "      <td>0.994392</td>\n",
              "    </tr>\n",
              "    <tr>\n",
              "      <td>(humor, jokes, funny video)</td>\n",
              "      <td>(celebrities)</td>\n",
              "      <td>0.019459</td>\n",
              "      <td>0.024958</td>\n",
              "      <td>0.019459</td>\n",
              "      <td>1.000000</td>\n",
              "      <td>0.779661</td>\n",
              "      <td>0.018973</td>\n",
              "      <td>inf</td>\n",
              "      <td>0.994392</td>\n",
              "    </tr>\n",
              "    <tr>\n",
              "      <td>(jokes)</td>\n",
              "      <td>(celebrities)</td>\n",
              "      <td>0.019882</td>\n",
              "      <td>0.024958</td>\n",
              "      <td>0.019459</td>\n",
              "      <td>0.978723</td>\n",
              "      <td>0.779661</td>\n",
              "      <td>0.018962</td>\n",
              "      <td>45.826988</td>\n",
              "      <td>0.994267</td>\n",
              "    </tr>\n",
              "    <tr>\n",
              "      <td>(funny)</td>\n",
              "      <td>(comedy)</td>\n",
              "      <td>0.091794</td>\n",
              "      <td>0.068951</td>\n",
              "      <td>0.049069</td>\n",
              "      <td>0.534562</td>\n",
              "      <td>0.711656</td>\n",
              "      <td>0.042740</td>\n",
              "      <td>2.000373</td>\n",
              "      <td>0.959049</td>\n",
              "    </tr>\n",
              "    <tr>\n",
              "      <td>(comedy)</td>\n",
              "      <td>(funny)</td>\n",
              "      <td>0.068951</td>\n",
              "      <td>0.091794</td>\n",
              "      <td>0.049069</td>\n",
              "      <td>0.711656</td>\n",
              "      <td>0.534562</td>\n",
              "      <td>0.042740</td>\n",
              "      <td>3.149737</td>\n",
              "      <td>0.935519</td>\n",
              "    </tr>\n",
              "    <tr>\n",
              "      <td>(funny video)</td>\n",
              "      <td>(humor)</td>\n",
              "      <td>0.022843</td>\n",
              "      <td>0.038917</td>\n",
              "      <td>0.020305</td>\n",
              "      <td>0.888889</td>\n",
              "      <td>0.521739</td>\n",
              "      <td>0.019416</td>\n",
              "      <td>8.649746</td>\n",
              "      <td>0.978571</td>\n",
              "    </tr>\n",
              "    <tr>\n",
              "      <td>(celebrities)</td>\n",
              "      <td>(humor)</td>\n",
              "      <td>0.024958</td>\n",
              "      <td>0.038917</td>\n",
              "      <td>0.020305</td>\n",
              "      <td>0.813559</td>\n",
              "      <td>0.521739</td>\n",
              "      <td>0.019333</td>\n",
              "      <td>5.154899</td>\n",
              "      <td>0.976537</td>\n",
              "    </tr>\n",
              "    <tr>\n",
              "      <td>(celebrities, funny video)</td>\n",
              "      <td>(humor)</td>\n",
              "      <td>0.019882</td>\n",
              "      <td>0.038917</td>\n",
              "      <td>0.019882</td>\n",
              "      <td>1.000000</td>\n",
              "      <td>0.510870</td>\n",
              "      <td>0.019108</td>\n",
              "      <td>inf</td>\n",
              "      <td>0.980578</td>\n",
              "    </tr>\n",
              "    <tr>\n",
              "      <td>(celebrities, jokes)</td>\n",
              "      <td>(humor)</td>\n",
              "      <td>0.019459</td>\n",
              "      <td>0.038917</td>\n",
              "      <td>0.019459</td>\n",
              "      <td>1.000000</td>\n",
              "      <td>0.500000</td>\n",
              "      <td>0.018701</td>\n",
              "      <td>inf</td>\n",
              "      <td>0.980155</td>\n",
              "    </tr>\n",
              "    <tr>\n",
              "      <td>(jokes, funny video)</td>\n",
              "      <td>(humor)</td>\n",
              "      <td>0.019459</td>\n",
              "      <td>0.038917</td>\n",
              "      <td>0.019459</td>\n",
              "      <td>1.000000</td>\n",
              "      <td>0.500000</td>\n",
              "      <td>0.018701</td>\n",
              "      <td>inf</td>\n",
              "      <td>0.980155</td>\n",
              "    </tr>\n",
              "    <tr>\n",
              "      <td>(celebrities, jokes, funny video)</td>\n",
              "      <td>(humor)</td>\n",
              "      <td>0.019459</td>\n",
              "      <td>0.038917</td>\n",
              "      <td>0.019459</td>\n",
              "      <td>1.000000</td>\n",
              "      <td>0.500000</td>\n",
              "      <td>0.018701</td>\n",
              "      <td>inf</td>\n",
              "      <td>0.980155</td>\n",
              "    </tr>\n",
              "    <tr>\n",
              "      <td>(jokes)</td>\n",
              "      <td>(humor)</td>\n",
              "      <td>0.019882</td>\n",
              "      <td>0.038917</td>\n",
              "      <td>0.019459</td>\n",
              "      <td>0.978723</td>\n",
              "      <td>0.500000</td>\n",
              "      <td>0.018685</td>\n",
              "      <td>45.170897</td>\n",
              "      <td>0.979715</td>\n",
              "    </tr>\n",
              "    <tr>\n",
              "      <td>(humor)</td>\n",
              "      <td>(funny)</td>\n",
              "      <td>0.038917</td>\n",
              "      <td>0.091794</td>\n",
              "      <td>0.027919</td>\n",
              "      <td>0.717391</td>\n",
              "      <td>0.304147</td>\n",
              "      <td>0.024346</td>\n",
              "      <td>3.213654</td>\n",
              "      <td>0.907357</td>\n",
              "    </tr>\n",
              "    <tr>\n",
              "      <td>(comedian)</td>\n",
              "      <td>(funny)</td>\n",
              "      <td>0.023266</td>\n",
              "      <td>0.091794</td>\n",
              "      <td>0.021574</td>\n",
              "      <td>0.927273</td>\n",
              "      <td>0.235023</td>\n",
              "      <td>0.019438</td>\n",
              "      <td>12.487838</td>\n",
              "      <td>0.922469</td>\n",
              "    </tr>\n",
              "    <tr>\n",
              "      <td>(late night)</td>\n",
              "      <td>(funny)</td>\n",
              "      <td>0.019036</td>\n",
              "      <td>0.091794</td>\n",
              "      <td>0.019036</td>\n",
              "      <td>1.000000</td>\n",
              "      <td>0.207373</td>\n",
              "      <td>0.017288</td>\n",
              "      <td>inf</td>\n",
              "      <td>0.925830</td>\n",
              "    </tr>\n",
              "  </tbody>\n",
              "</table>"
            ]
          },
          "metadata": {}
        }
      ]
    },
    {
      "cell_type": "markdown",
      "source": [
        "# Apriori alg. on video tags based on season - Silvestre"
      ],
      "metadata": {
        "id": "6mpd4jA8C0st"
      }
    },
    {
      "cell_type": "markdown",
      "source": [
        "## **Step 1:** Create dfs for fall and winter"
      ],
      "metadata": {
        "id": "eNfRtfJbDWye"
      }
    },
    {
      "cell_type": "code",
      "source": [
        "if 'df_us_videos' in locals():\n",
        "    # Creating two dictionaries based on 'season' column for Fall and Winter\n",
        "    fall_video_tags_dict = {row['video_id']: row['tags'].split('|') for index, row in df_us_videos.iterrows() if isinstance(row['tags'], str) and row['season'] == 'Fall'}\n",
        "    winter_video_tags_dict = {row['video_id']: row['tags'].split('|') for index, row in df_us_videos.iterrows() if isinstance(row['tags'], str) and row['season'] == 'Winter'}\n",
        "\n",
        "    # Optionally, display a small part of each dictionary to check\n",
        "    fall_sample_items = list(fall_video_tags_dict.items())[:5]\n",
        "    winter_sample_items = list(winter_video_tags_dict.items())[:5]\n",
        "\n",
        "    print(\"Fall Season Samples:\")\n",
        "    for video_id, tags in fall_sample_items:\n",
        "        print(f\"Video ID: {video_id}\\nTags: {tags}\\n\")\n",
        "\n",
        "    print(\"Winter Season Samples:\")\n",
        "    for video_id, tags in winter_sample_items:\n",
        "        print(f\"Video ID: {video_id}\\nTags: {tags}\\n\")\n",
        "else:\n",
        "    print(\"Dataframe is not defined due to an error in reading the file.\")"
      ],
      "metadata": {
        "id": "pfdbfIZjDds_"
      },
      "execution_count": null,
      "outputs": []
    },
    {
      "cell_type": "markdown",
      "source": [
        "## **Step 2:** Apply Aprori on Winter and Fall"
      ],
      "metadata": {
        "id": "EkoXIKgSD4kM"
      }
    },
    {
      "cell_type": "code",
      "source": [
        "encoder = TransactionEncoder()\n",
        "fall_tags = list(fall_video_tags_dict.values())\n",
        "winter_tags = list(winter_video_tags_dict.values())\n",
        "\n",
        "all_tags = fall_tags + winter_tags  # Combine all tags for a consistent fit\n",
        "encoder.fit(all_tags)  # Fit the encoder to all tags once\n",
        "\n",
        "fall_transformed_data = encoder.transform(fall_tags)  # Only transform here\n",
        "winter_transformed_data = encoder.transform(winter_tags)  # Only transform here\n",
        "\n",
        "fall_df = pd.DataFrame(fall_transformed_data, columns=encoder.columns_)\n",
        "winter_df = pd.DataFrame(winter_transformed_data, columns=encoder.columns_)\n",
        "\n",
        "fall_frequent_itemsets = apriori(fall_df, min_support=0.019, use_colnames=True)\n",
        "winter_frequent_itemsets = apriori(winter_df, min_support=0.019, use_colnames=True)\n",
        "\n",
        "fall_frequent_itemsets_sorted = fall_frequent_itemsets.sort_values(by='support', ascending=False)\n",
        "winter_frequent_itemsets_sorted = winter_frequent_itemsets.sort_values(by='support', ascending=False)"
      ],
      "metadata": {
        "colab": {
          "base_uri": "https://localhost:8080/"
        },
        "id": "HIYC4HVTECk-",
        "outputId": "d56ee098-4c7c-4567-918f-f11e1f487f39"
      },
      "execution_count": null,
      "outputs": [
        {
          "output_type": "stream",
          "name": "stderr",
          "text": [
            "/usr/local/lib/python3.10/dist-packages/ipykernel/ipkernel.py:283: DeprecationWarning: `should_run_async` will not call `transform_cell` automatically in the future. Please pass the result to `transformed_cell` argument and any exception that happen during thetransform in `preprocessing_exc_tuple` in IPython 7.17 and above.\n",
            "  and should_run_async(code)\n"
          ]
        }
      ]
    },
    {
      "cell_type": "markdown",
      "source": [
        "## **Step 3:** Display patterns"
      ],
      "metadata": {
        "id": "Cr6Q5eCOEKbQ"
      }
    },
    {
      "cell_type": "code",
      "source": [
        "print(\"Fall Frequent Itemsets:\")\n",
        "display(HTML(fall_frequent_itemsets_sorted.to_html(index=False)))"
      ],
      "metadata": {
        "id": "FPuSNsJQEeCH"
      },
      "execution_count": null,
      "outputs": []
    },
    {
      "cell_type": "code",
      "source": [
        "print(\"Winter Frequent Itemsets:\")\n",
        "display(HTML(winter_frequent_itemsets_sorted.to_html(index=False)))"
      ],
      "metadata": {
        "id": "6pQsFeYJESTf"
      },
      "execution_count": null,
      "outputs": []
    },
    {
      "cell_type": "markdown",
      "source": [
        "# Apriori alg on video all titles - Silvestre"
      ],
      "metadata": {
        "id": "xGBoI_prElkm"
      }
    },
    {
      "cell_type": "markdown",
      "source": [
        "## Preprocessing video titles (removing stopingwords)"
      ],
      "metadata": {
        "id": "7-ZsgjWMFBuq"
      }
    },
    {
      "cell_type": "code",
      "source": [
        "import pandas as pd\n",
        "import string\n",
        "import nltk\n",
        "from nltk.corpus import stopwords\n",
        "\n",
        "# Downloading stop words\n",
        "nltk.download('stopwords')\n",
        "\n",
        "# Set of English stop words\n",
        "stop_words = set(stopwords.words('english'))\n",
        "def clean_title(title):\n",
        "    # Remove punctuation from the title\n",
        "    punctuation_extended = string.punctuation + '–—'\n",
        "    translator = str.maketrans('', '', punctuation_extended)\n",
        "    title_no_punctuation = title.translate(translator)\n",
        "\n",
        "    # Split the title into words, remove stop words\n",
        "    words = [word for word in title_no_punctuation.lower().split() if word not in stop_words]\n",
        "\n",
        "    return words\n",
        "\n",
        "if 'df_us_videos' in locals():\n",
        "    # Creating a dictionary with 'video_id' as keys and cleaned titles as values\n",
        "    video_titles_dict = {row['video_id']: clean_title(row['title']) for index, row in df_us_videos.iterrows() if isinstance(row['title'], str)}\n",
        "\n",
        "\n",
        "    # Optionally, display a small part of the dictionary to check\n",
        "    sample_items = list(video_titles_dict.items())[:5]\n",
        "    for video_id, title in sample_items:\n",
        "        print(f\"Video ID: {video_id}\\nTitle: {title}\\n\")\n",
        "else:\n",
        "    print(\"Dataframe is not defined due to an error in reading the file.\")"
      ],
      "metadata": {
        "id": "PMgYmmmyE9Fk"
      },
      "execution_count": null,
      "outputs": []
    },
    {
      "cell_type": "markdown",
      "source": [
        "## applying Apriori alg."
      ],
      "metadata": {
        "id": "isyPxE_AF2X1"
      }
    },
    {
      "cell_type": "code",
      "source": [
        "video_titles = list(video_titles_dict.values())\n",
        "\n",
        "import pandas as pd\n",
        "from mlxtend.preprocessing import TransactionEncoder\n",
        "from mlxtend.frequent_patterns import apriori\n",
        "from IPython.display import display\n",
        "\n",
        "# Example data setup (assuming video_titles_dict is defined)\n",
        "# video_titles = list(video_titles_dict.values())\n",
        "\n",
        "# Applying TransactionEncoder\n",
        "encoder = TransactionEncoder()\n",
        "transformed_data = encoder.fit_transform(video_titles)\n",
        "df_titles = pd.DataFrame(transformed_data, columns=encoder.columns_)\n",
        "\n",
        "# Apply the Apriori algorithm to find frequent itemsets\n",
        "frequent_itemsets = apriori(df_titles, min_support=0.0125, use_colnames=True)\n",
        "\n",
        "# Sort by 'support' in descending order\n",
        "sorted_frequent_itemsets = frequent_itemsets.sort_values(by='support', ascending=False)\n",
        "\n",
        "# Set the display options\n",
        "pd.set_option('display.max_rows', None)  # Show all rows\n",
        "pd.set_option('display.max_columns', None)  # Show all columns\n",
        "pd.set_option('display.width', None)  # Use maximum window width\n",
        "pd.set_option('display.max_colwidth', None)  # Display the full width of each column\n",
        "\n",
        "# Display the sorted frequent itemsets\n",
        "display(sorted_frequent_itemsets)"
      ],
      "metadata": {
        "id": "FeJZdX2oF6nk"
      },
      "execution_count": null,
      "outputs": []
    },
    {
      "cell_type": "markdown",
      "source": [
        "##Generate Word cload based on frquent words"
      ],
      "metadata": {
        "id": "dakqsHznGVw-"
      }
    },
    {
      "cell_type": "code",
      "source": [
        "def wordcld(a):\n",
        "    from wordcloud import WordCloud\n",
        "    import matplotlib.pyplot as plt\n",
        "    title_words = list(a[\"title\"].apply(lambda x: x.split()))\n",
        "    title_words = [x for y in title_words for x in y]\n",
        "    #print(df_name_list[j])\n",
        "    wc = WordCloud(width=1200, height=500,\n",
        "                                collocations=False, background_color=\"white\",\n",
        "                                colormap=\"tab20b\").generate(\" \".join(title_words))\n",
        "    plt.figure(figsize=(15,10))\n",
        "    plt.imshow(wc, interpolation='bilinear')\n",
        "    #plt.axis(\"off\")\n",
        "    plt.ylabel(\"US videos\")\n",
        "\n",
        "\n",
        "\n",
        "wordcld(df)"
      ],
      "metadata": {
        "id": "460g8rBqGbuX"
      },
      "execution_count": null,
      "outputs": []
    }
  ]
}